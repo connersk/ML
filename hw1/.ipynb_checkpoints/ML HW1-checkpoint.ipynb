{
 "cells": [
  {
   "cell_type": "code",
   "execution_count": 3,
   "metadata": {
    "collapsed": true
   },
   "outputs": [],
   "source": [
    "%matplotlib inline\n",
    "import numpy as np\n",
    "import matplotlib\n",
    "import matplotlib.pyplot as plt"
   ]
  },
  {
   "cell_type": "markdown",
   "metadata": {},
   "source": [
    "Problem 1.1, Implementing Gradient Descent"
   ]
  },
  {
   "cell_type": "code",
   "execution_count": 4,
   "metadata": {
    "collapsed": true
   },
   "outputs": [],
   "source": [
    "#test parameters\n",
    "\n",
    "u_test = np.array([10,10])\n",
    "cov_test = np.array([10,0,0,10]).reshape([2,2])\n",
    "A_test = np.array([10,5,5,10]).reshape([2,2])\n",
    "b_test = np.array([400,400])"
   ]
  },
  {
   "cell_type": "code",
   "execution_count": 5,
   "metadata": {
    "collapsed": false
   },
   "outputs": [],
   "source": [
    "#Objective funtions and gradients\n",
    "\n",
    "#test objective function, vectorized input\n",
    "    #mean: vector of means of input vars\n",
    "    #cov: covariance matrix of input vars\n",
    "    #x: vector of inputs\n",
    "#returns scalar output\n",
    "def gaussian_objective(u, cov, x):\n",
    "    return -np.power(10,4) / (np.sqrt(np.power(2*np.pi,len(u))*np.linalg.det(cov))) *np.exp(-0.5 * np.dot(np.dot(np.subtract(x,u),np.linalg.inv(cov)), np.subtract(x,u)))\n",
    "    \n",
    "def gaussian_gradient(u, cov, x):\n",
    "    return -1*gaussian_objective(u,cov,x)*np.linalg.inv(cov)*np.subtract(x,u)\n",
    "\n",
    "#quadratic objective function\n",
    "    #A: positive definite matrix\n",
    "    #b: vector\n",
    "def quadratic_objective(A,b,x):\n",
    "    return 0.5 * np.subtract(np.dot(np.dot(x,A),x),np.dot(x,b))\n",
    "\n",
    "def quadratic_gradient(A,b,x):\n",
    "    return np.subtract(np.dot(A,x),b)\n",
    "    "
   ]
  },
  {
   "cell_type": "code",
   "execution_count": 6,
   "metadata": {
    "collapsed": false
   },
   "outputs": [],
   "source": [
    "#gradient descent\n",
    "\n",
    "def run_gradient_descent(func, deriv, x0, h, tol):\n",
    "    x = []\n",
    "    d = []\n",
    "    f = []\n",
    "    while 1:\n",
    "        dx0 = deriv(x0)\n",
    "        x.append(x0)\n",
    "        d.append(dx0)\n",
    "        \n",
    "        x1 = x0 - h*dx0\n",
    "        fx1 = func(x1)\n",
    "        fx0 = func(x0)\n",
    "        f.append(fx0)\n",
    "        if np.all(abs(fx1-fx0) < tol):\n",
    "            x.append(x1)\n",
    "            f.append(fx1)\n",
    "            break\n",
    "        x0 = x1\n",
    "    return x, d, f\n"
   ]
  },
  {
   "cell_type": "code",
   "execution_count": 7,
   "metadata": {
    "collapsed": false
   },
   "outputs": [
    {
     "data": {
      "text/plain": [
       "([array([10, 10]),\n",
       "  array([ 35.,  35.]),\n",
       "  array([ 22.5,  22.5]),\n",
       "  array([ 28.75,  28.75]),\n",
       "  array([ 25.625,  25.625]),\n",
       "  array([ 27.1875,  27.1875]),\n",
       "  array([ 26.40625,  26.40625]),\n",
       "  array([ 26.796875,  26.796875]),\n",
       "  array([ 26.6015625,  26.6015625]),\n",
       "  array([ 26.69921875,  26.69921875]),\n",
       "  array([ 26.65039062,  26.65039062]),\n",
       "  array([ 26.67480469,  26.67480469]),\n",
       "  array([ 26.66259766,  26.66259766]),\n",
       "  array([ 26.66870117,  26.66870117]),\n",
       "  array([ 26.66564941,  26.66564941]),\n",
       "  array([ 26.66717529,  26.66717529]),\n",
       "  array([ 26.66641235,  26.66641235]),\n",
       "  array([ 26.66679382,  26.66679382]),\n",
       "  array([ 26.66660309,  26.66660309]),\n",
       "  array([ 26.66669846,  26.66669846]),\n",
       "  array([ 26.66665077,  26.66665077]),\n",
       "  array([ 26.66667461,  26.66667461]),\n",
       "  array([ 26.66666269,  26.66666269]),\n",
       "  array([ 26.66666865,  26.66666865]),\n",
       "  array([ 26.66666567,  26.66666567]),\n",
       "  array([ 26.66666716,  26.66666716])],\n",
       " [array([-250, -250]),\n",
       "  array([ 125.,  125.]),\n",
       "  array([-62.5, -62.5]),\n",
       "  array([ 31.25,  31.25]),\n",
       "  array([-15.625, -15.625]),\n",
       "  array([ 7.8125,  7.8125]),\n",
       "  array([-3.90625, -3.90625]),\n",
       "  array([ 1.953125,  1.953125]),\n",
       "  array([-0.9765625, -0.9765625]),\n",
       "  array([ 0.48828125,  0.48828125]),\n",
       "  array([-0.24414062, -0.24414062]),\n",
       "  array([ 0.12207031,  0.12207031]),\n",
       "  array([-0.06103516, -0.06103516]),\n",
       "  array([ 0.03051758,  0.03051758]),\n",
       "  array([-0.01525879, -0.01525879]),\n",
       "  array([ 0.00762939,  0.00762939]),\n",
       "  array([-0.0038147, -0.0038147]),\n",
       "  array([ 0.00190735,  0.00190735]),\n",
       "  array([-0.00095367, -0.00095367]),\n",
       "  array([ 0.00047684,  0.00047684]),\n",
       "  array([-0.00023842, -0.00023842]),\n",
       "  array([ 0.00011921,  0.00011921]),\n",
       "  array([ -5.96046448e-05,  -5.96046448e-05]),\n",
       "  array([  2.98023224e-05,   2.98023224e-05]),\n",
       "  array([ -1.49011612e-05,  -1.49011612e-05])],\n",
       " [array([ 950.,  950.]),\n",
       "  array([ 12075.,  12075.]),\n",
       "  array([ 4950.,  4950.]),\n",
       "  array([ 8121.875,  8121.875]),\n",
       "  array([ 6438.28125,  6438.28125]),\n",
       "  array([ 7255.6640625,  7255.6640625]),\n",
       "  array([ 6840.86914062,  6840.86914062]),\n",
       "  array([ 7046.74072266,  7046.74072266]),\n",
       "  array([ 6943.42346191,  6943.42346191]),\n",
       "  array([ 6994.98672485,  6994.98672485]),\n",
       "  array([ 6969.18125153,  6969.18125153]),\n",
       "  array([ 6982.07802773,  6982.07802773]),\n",
       "  array([ 6975.62814951,  6975.62814951]),\n",
       "  array([ 6978.85271609,  6978.85271609]),\n",
       "  array([ 6977.24033967,  6977.24033967]),\n",
       "  array([ 6978.04650459,  6978.04650459]),\n",
       "  array([ 6977.64341631,  6977.64341631]),\n",
       "  array([ 6977.844959,  6977.844959]),\n",
       "  array([ 6977.74418729,  6977.74418729]),\n",
       "  array([ 6977.79457305,  6977.79457305]),\n",
       "  array([ 6977.76938015,  6977.76938015]),\n",
       "  array([ 6977.78197659,  6977.78197659]),\n",
       "  array([ 6977.77567837,  6977.77567837]),\n",
       "  array([ 6977.77882748,  6977.77882748]),\n",
       "  array([ 6977.77725293,  6977.77725293]),\n",
       "  array([ 6977.7780402,  6977.7780402])])"
      ]
     },
     "execution_count": 7,
     "metadata": {},
     "output_type": "execute_result"
    }
   ],
   "source": [
    "run_gradient_descent(lambda x: quadratic_objective(u_test, cov_test, x) ,lambda x: quadratic_gradient(A_test,b_test, x), np.array([10,10]), .1, .001)\n"
   ]
  },
  {
   "cell_type": "code",
   "execution_count": 8,
   "metadata": {
    "collapsed": false
   },
   "outputs": [
    {
     "data": {
      "text/plain": [
       "([10,\n",
       "  8.0,\n",
       "  6.4,\n",
       "  5.12,\n",
       "  4.096,\n",
       "  3.2768,\n",
       "  2.62144,\n",
       "  2.0971520000000003,\n",
       "  1.6777216000000004,\n",
       "  1.3421772800000003,\n",
       "  1.0737418240000003,\n",
       "  0.8589934592000003,\n",
       "  0.6871947673600002,\n",
       "  0.5497558138880001,\n",
       "  0.43980465111040007,\n",
       "  0.35184372088832006,\n",
       "  0.281474976710656,\n",
       "  0.22517998136852482,\n",
       "  0.18014398509481985,\n",
       "  0.14411518807585588,\n",
       "  0.11529215046068471,\n",
       "  0.09223372036854777,\n",
       "  0.07378697629483821,\n",
       "  0.05902958103587057,\n",
       "  0.04722366482869646,\n",
       "  0.037778931862957166],\n",
       " [20,\n",
       "  16.0,\n",
       "  12.8,\n",
       "  10.24,\n",
       "  8.192,\n",
       "  6.5536,\n",
       "  5.24288,\n",
       "  4.194304000000001,\n",
       "  3.3554432000000007,\n",
       "  2.6843545600000005,\n",
       "  2.1474836480000006,\n",
       "  1.7179869184000005,\n",
       "  1.3743895347200004,\n",
       "  1.0995116277760002,\n",
       "  0.8796093022208001,\n",
       "  0.7036874417766401,\n",
       "  0.562949953421312,\n",
       "  0.45035996273704965,\n",
       "  0.3602879701896397,\n",
       "  0.28823037615171176,\n",
       "  0.23058430092136942,\n",
       "  0.18446744073709553,\n",
       "  0.14757395258967643,\n",
       "  0.11805916207174114,\n",
       "  0.09444732965739291],\n",
       " [100,\n",
       "  64.0,\n",
       "  40.96000000000001,\n",
       "  26.2144,\n",
       "  16.777216,\n",
       "  10.73741824,\n",
       "  6.871947673600001,\n",
       "  4.398046511104002,\n",
       "  2.8147497671065613,\n",
       "  1.801439850948199,\n",
       "  1.1529215046068475,\n",
       "  0.7378697629483825,\n",
       "  0.47223664828696477,\n",
       "  0.3022314549036574,\n",
       "  0.19342813113834073,\n",
       "  0.12379400392853807,\n",
       "  0.07922816251426434,\n",
       "  0.050706024009129186,\n",
       "  0.03245185536584268,\n",
       "  0.020769187434139313,\n",
       "  0.013292279957849162,\n",
       "  0.008507059173023463,\n",
       "  0.0054445178707350165,\n",
       "  0.00348449143727041,\n",
       "  0.002230074519853063,\n",
       "  0.0014272476927059603])"
      ]
     },
     "execution_count": 8,
     "metadata": {},
     "output_type": "execute_result"
    }
   ],
   "source": [
    "run_gradient_descent(lambda x: x**2 ,lambda x: 2*x, 10, .1, .001)\n"
   ]
  },
  {
   "cell_type": "markdown",
   "metadata": {},
   "source": [
    "# Problem 1.2"
   ]
  },
  {
   "cell_type": "code",
   "execution_count": 9,
   "metadata": {
    "collapsed": true
   },
   "outputs": [],
   "source": [
    "def central_difference(func, step,x):\n",
    "    return (func(x+0.5*step) - func(x-0.5*step))/step"
   ]
  },
  {
   "cell_type": "markdown",
   "metadata": {},
   "source": [
    "# 1.3"
   ]
  },
  {
   "cell_type": "code",
   "execution_count": 10,
   "metadata": {
    "collapsed": true
   },
   "outputs": [],
   "source": [
    "def batch_objective(theta, X, Y):\n",
    "    return np.sum((np.dot(X,theta) - Y)**2)\n",
    "\n",
    "def batch_gradient(theta, X, Y):\n",
    "    return (2*np.dot(X.T,np.dot(X,theta)-Y))"
   ]
  },
  {
   "cell_type": "code",
   "execution_count": 11,
   "metadata": {
    "collapsed": false
   },
   "outputs": [
    {
     "ename": "ValueError",
     "evalue": "shapes (2,3) and (2,) not aligned: 3 (dim 1) != 2 (dim 0)",
     "output_type": "error",
     "traceback": [
      "\u001b[0;31m---------------------------------------------------------------------------\u001b[0m",
      "\u001b[0;31mValueError\u001b[0m                                Traceback (most recent call last)",
      "\u001b[0;32m<ipython-input-11-b09c3481e41e>\u001b[0m in \u001b[0;36m<module>\u001b[0;34m()\u001b[0m\n\u001b[1;32m      5\u001b[0m \u001b[0mtestTheta\u001b[0m \u001b[0;34m=\u001b[0m \u001b[0mnp\u001b[0m\u001b[0;34m.\u001b[0m\u001b[0mones\u001b[0m\u001b[0;34m(\u001b[0m\u001b[0mm\u001b[0m\u001b[0;34m)\u001b[0m\u001b[0;34m\u001b[0m\u001b[0m\n\u001b[1;32m      6\u001b[0m \u001b[0;34m\u001b[0m\u001b[0m\n\u001b[0;32m----> 7\u001b[0;31m \u001b[0;32mprint\u001b[0m \u001b[0mbatch_objective\u001b[0m\u001b[0;34m(\u001b[0m\u001b[0mtestTheta\u001b[0m\u001b[0;34m,\u001b[0m\u001b[0mtestX\u001b[0m\u001b[0;34m,\u001b[0m\u001b[0mtestY\u001b[0m\u001b[0;34m)\u001b[0m\u001b[0;34m\u001b[0m\u001b[0m\n\u001b[0m\u001b[1;32m      8\u001b[0m \u001b[0;32mprint\u001b[0m \u001b[0mbatch_gradient\u001b[0m\u001b[0;34m(\u001b[0m\u001b[0mtestTheta\u001b[0m\u001b[0;34m,\u001b[0m\u001b[0mtestX\u001b[0m\u001b[0;34m,\u001b[0m\u001b[0mtestY\u001b[0m\u001b[0;34m)\u001b[0m\u001b[0;34m\u001b[0m\u001b[0m\n\u001b[1;32m      9\u001b[0m \u001b[0;34m\u001b[0m\u001b[0m\n",
      "\u001b[0;32m<ipython-input-10-585638b1e12d>\u001b[0m in \u001b[0;36mbatch_objective\u001b[0;34m(theta, X, Y)\u001b[0m\n\u001b[1;32m      1\u001b[0m \u001b[0;32mdef\u001b[0m \u001b[0mbatch_objective\u001b[0m\u001b[0;34m(\u001b[0m\u001b[0mtheta\u001b[0m\u001b[0;34m,\u001b[0m \u001b[0mX\u001b[0m\u001b[0;34m,\u001b[0m \u001b[0mY\u001b[0m\u001b[0;34m)\u001b[0m\u001b[0;34m:\u001b[0m\u001b[0;34m\u001b[0m\u001b[0m\n\u001b[0;32m----> 2\u001b[0;31m     \u001b[0;32mreturn\u001b[0m \u001b[0mnp\u001b[0m\u001b[0;34m.\u001b[0m\u001b[0msum\u001b[0m\u001b[0;34m(\u001b[0m\u001b[0;34m(\u001b[0m\u001b[0mnp\u001b[0m\u001b[0;34m.\u001b[0m\u001b[0mdot\u001b[0m\u001b[0;34m(\u001b[0m\u001b[0mX\u001b[0m\u001b[0;34m,\u001b[0m\u001b[0mtheta\u001b[0m\u001b[0;34m)\u001b[0m \u001b[0;34m-\u001b[0m \u001b[0mY\u001b[0m\u001b[0;34m)\u001b[0m\u001b[0;34m**\u001b[0m\u001b[0;36m2\u001b[0m\u001b[0;34m)\u001b[0m\u001b[0;34m\u001b[0m\u001b[0m\n\u001b[0m\u001b[1;32m      3\u001b[0m \u001b[0;34m\u001b[0m\u001b[0m\n\u001b[1;32m      4\u001b[0m \u001b[0;32mdef\u001b[0m \u001b[0mbatch_gradient\u001b[0m\u001b[0;34m(\u001b[0m\u001b[0mtheta\u001b[0m\u001b[0;34m,\u001b[0m \u001b[0mX\u001b[0m\u001b[0;34m,\u001b[0m \u001b[0mY\u001b[0m\u001b[0;34m)\u001b[0m\u001b[0;34m:\u001b[0m\u001b[0;34m\u001b[0m\u001b[0m\n\u001b[1;32m      5\u001b[0m     \u001b[0;32mreturn\u001b[0m \u001b[0;34m(\u001b[0m\u001b[0;36m2\u001b[0m\u001b[0;34m*\u001b[0m\u001b[0mnp\u001b[0m\u001b[0;34m.\u001b[0m\u001b[0mdot\u001b[0m\u001b[0;34m(\u001b[0m\u001b[0mX\u001b[0m\u001b[0;34m.\u001b[0m\u001b[0mT\u001b[0m\u001b[0;34m,\u001b[0m\u001b[0mnp\u001b[0m\u001b[0;34m.\u001b[0m\u001b[0mdot\u001b[0m\u001b[0;34m(\u001b[0m\u001b[0mX\u001b[0m\u001b[0;34m,\u001b[0m\u001b[0mtheta\u001b[0m\u001b[0;34m)\u001b[0m\u001b[0;34m-\u001b[0m\u001b[0mY\u001b[0m\u001b[0;34m)\u001b[0m\u001b[0;34m)\u001b[0m\u001b[0;34m\u001b[0m\u001b[0m\n",
      "\u001b[0;31mValueError\u001b[0m: shapes (2,3) and (2,) not aligned: 3 (dim 1) != 2 (dim 0)"
     ]
    }
   ],
   "source": [
    "m= 2\n",
    "p = 3\n",
    "testX = np.arange(m*p).reshape([m,p])\n",
    "testY = np.arange(p)\n",
    "testTheta = np.ones(m)\n",
    "\n",
    "print batch_objective(testTheta,testX,testY)\n",
    "print batch_gradient(testTheta,testX,testY)\n",
    "\n",
    "\n"
   ]
  },
  {
   "cell_type": "code",
   "execution_count": 12,
   "metadata": {
    "collapsed": false
   },
   "outputs": [
    {
     "ename": "IOError",
     "evalue": "[Errno 2] No such file or directory: 'data/fittingdatap1_x.txt'",
     "output_type": "error",
     "traceback": [
      "\u001b[0;31m---------------------------------------------------------------------------\u001b[0m",
      "\u001b[0;31mIOError\u001b[0m                                   Traceback (most recent call last)",
      "\u001b[0;32m<ipython-input-12-53ccb250f67b>\u001b[0m in \u001b[0;36m<module>\u001b[0;34m()\u001b[0m\n\u001b[1;32m     12\u001b[0m     \u001b[0;32mreturn\u001b[0m \u001b[0;34m(\u001b[0m\u001b[0mX\u001b[0m\u001b[0;34m,\u001b[0m\u001b[0my\u001b[0m\u001b[0;34m)\u001b[0m\u001b[0;34m\u001b[0m\u001b[0m\n\u001b[1;32m     13\u001b[0m \u001b[0;34m\u001b[0m\u001b[0m\n\u001b[0;32m---> 14\u001b[0;31m \u001b[0mX_fitting\u001b[0m\u001b[0;34m,\u001b[0m \u001b[0mY_fitting\u001b[0m \u001b[0;34m=\u001b[0m \u001b[0mgetData\u001b[0m\u001b[0;34m(\u001b[0m\u001b[0;34m)\u001b[0m\u001b[0;34m;\u001b[0m\u001b[0;34m\u001b[0m\u001b[0m\n\u001b[0m\u001b[1;32m     15\u001b[0m \u001b[0;34m\u001b[0m\u001b[0m\n\u001b[1;32m     16\u001b[0m \u001b[0;34m\u001b[0m\u001b[0m\n",
      "\u001b[0;32m<ipython-input-12-53ccb250f67b>\u001b[0m in \u001b[0;36mgetData\u001b[0;34m()\u001b[0m\n\u001b[1;32m      7\u001b[0m     \u001b[0;31m# Each corresponding row for X and y represents a single data sample\u001b[0m\u001b[0;34m\u001b[0m\u001b[0;34m\u001b[0m\u001b[0m\n\u001b[1;32m      8\u001b[0m \u001b[0;34m\u001b[0m\u001b[0m\n\u001b[0;32m----> 9\u001b[0;31m     \u001b[0mX\u001b[0m \u001b[0;34m=\u001b[0m \u001b[0mpl\u001b[0m\u001b[0;34m.\u001b[0m\u001b[0mloadtxt\u001b[0m\u001b[0;34m(\u001b[0m\u001b[0;34m'data/fittingdatap1_x.txt'\u001b[0m\u001b[0;34m)\u001b[0m\u001b[0;34m\u001b[0m\u001b[0m\n\u001b[0m\u001b[1;32m     10\u001b[0m     \u001b[0my\u001b[0m \u001b[0;34m=\u001b[0m \u001b[0mpl\u001b[0m\u001b[0;34m.\u001b[0m\u001b[0mloadtxt\u001b[0m\u001b[0;34m(\u001b[0m\u001b[0;34m'data/fittingdatap1_y.txt'\u001b[0m\u001b[0;34m,\u001b[0m \u001b[0mndmin\u001b[0m\u001b[0;34m=\u001b[0m\u001b[0;36m2\u001b[0m\u001b[0;34m)\u001b[0m\u001b[0;34m\u001b[0m\u001b[0m\n\u001b[1;32m     11\u001b[0m \u001b[0;34m\u001b[0m\u001b[0m\n",
      "\u001b[0;32m/Users/davekummerlowe/anaconda/lib/python2.7/site-packages/numpy/lib/npyio.pyc\u001b[0m in \u001b[0;36mloadtxt\u001b[0;34m(fname, dtype, comments, delimiter, converters, skiprows, usecols, unpack, ndmin)\u001b[0m\n\u001b[1;32m    801\u001b[0m                 \u001b[0mfh\u001b[0m \u001b[0;34m=\u001b[0m \u001b[0miter\u001b[0m\u001b[0;34m(\u001b[0m\u001b[0mbz2\u001b[0m\u001b[0;34m.\u001b[0m\u001b[0mBZ2File\u001b[0m\u001b[0;34m(\u001b[0m\u001b[0mfname\u001b[0m\u001b[0;34m)\u001b[0m\u001b[0;34m)\u001b[0m\u001b[0;34m\u001b[0m\u001b[0m\n\u001b[1;32m    802\u001b[0m             \u001b[0;32melif\u001b[0m \u001b[0msys\u001b[0m\u001b[0;34m.\u001b[0m\u001b[0mversion_info\u001b[0m\u001b[0;34m[\u001b[0m\u001b[0;36m0\u001b[0m\u001b[0;34m]\u001b[0m \u001b[0;34m==\u001b[0m \u001b[0;36m2\u001b[0m\u001b[0;34m:\u001b[0m\u001b[0;34m\u001b[0m\u001b[0m\n\u001b[0;32m--> 803\u001b[0;31m                 \u001b[0mfh\u001b[0m \u001b[0;34m=\u001b[0m \u001b[0miter\u001b[0m\u001b[0;34m(\u001b[0m\u001b[0mopen\u001b[0m\u001b[0;34m(\u001b[0m\u001b[0mfname\u001b[0m\u001b[0;34m,\u001b[0m \u001b[0;34m'U'\u001b[0m\u001b[0;34m)\u001b[0m\u001b[0;34m)\u001b[0m\u001b[0;34m\u001b[0m\u001b[0m\n\u001b[0m\u001b[1;32m    804\u001b[0m             \u001b[0;32melse\u001b[0m\u001b[0;34m:\u001b[0m\u001b[0;34m\u001b[0m\u001b[0m\n\u001b[1;32m    805\u001b[0m                 \u001b[0mfh\u001b[0m \u001b[0;34m=\u001b[0m \u001b[0miter\u001b[0m\u001b[0;34m(\u001b[0m\u001b[0mopen\u001b[0m\u001b[0;34m(\u001b[0m\u001b[0mfname\u001b[0m\u001b[0;34m)\u001b[0m\u001b[0;34m)\u001b[0m\u001b[0;34m\u001b[0m\u001b[0m\n",
      "\u001b[0;31mIOError\u001b[0m: [Errno 2] No such file or directory: 'data/fittingdatap1_x.txt'"
     ]
    }
   ],
   "source": [
    "import pylab as pl\n",
    "\n",
    "def getData():\n",
    "    \n",
    "    # load the fitting data for X and y and return as elements of a tuple\n",
    "    # X is a 100 by 10 matrix and y is a vector of length 100\n",
    "    # Each corresponding row for X and y represents a single data sample\n",
    "\n",
    "    X = pl.loadtxt('data/fittingdatap1_x.txt')\n",
    "    y = pl.loadtxt('data/fittingdatap1_y.txt', ndmin=2)\n",
    "\n",
    "    return (X,y) \n",
    "\n",
    "X_fitting, Y_fitting = getData();\n",
    "\n",
    "\n",
    "print np.shape(X_fitting)\n",
    "print np.shape(Y_fitting)"
   ]
  },
  {
   "cell_type": "code",
   "execution_count": 13,
   "metadata": {
    "collapsed": false
   },
   "outputs": [
    {
     "ename": "NameError",
     "evalue": "global name 'X_fitting' is not defined",
     "output_type": "error",
     "traceback": [
      "\u001b[0;31m---------------------------------------------------------------------------\u001b[0m",
      "\u001b[0;31mNameError\u001b[0m                                 Traceback (most recent call last)",
      "\u001b[0;32m<ipython-input-13-7874e495d884>\u001b[0m in \u001b[0;36m<module>\u001b[0;34m()\u001b[0m\n\u001b[0;32m----> 1\u001b[0;31m \u001b[0mresults\u001b[0m \u001b[0;34m=\u001b[0m \u001b[0mrun_gradient_descent\u001b[0m\u001b[0;34m(\u001b[0m\u001b[0;32mlambda\u001b[0m \u001b[0mtheta\u001b[0m\u001b[0;34m:\u001b[0m \u001b[0mbatch_objective\u001b[0m\u001b[0;34m(\u001b[0m\u001b[0mtheta\u001b[0m\u001b[0;34m,\u001b[0m \u001b[0mX_fitting\u001b[0m\u001b[0;34m,\u001b[0m \u001b[0mY_fitting\u001b[0m\u001b[0;34m)\u001b[0m\u001b[0;34m,\u001b[0m\u001b[0;32mlambda\u001b[0m \u001b[0mtheta\u001b[0m\u001b[0;34m:\u001b[0m \u001b[0mbatch_gradient\u001b[0m\u001b[0;34m(\u001b[0m\u001b[0mtheta\u001b[0m\u001b[0;34m,\u001b[0m \u001b[0mX_fitting\u001b[0m\u001b[0;34m,\u001b[0m \u001b[0mY_fitting\u001b[0m\u001b[0;34m)\u001b[0m\u001b[0;34m,\u001b[0m \u001b[0mnp\u001b[0m\u001b[0;34m.\u001b[0m\u001b[0mzeros\u001b[0m\u001b[0;34m(\u001b[0m\u001b[0;34m(\u001b[0m\u001b[0;36m10\u001b[0m\u001b[0;34m,\u001b[0m\u001b[0;36m1\u001b[0m\u001b[0;34m)\u001b[0m\u001b[0;34m)\u001b[0m\u001b[0;34m,\u001b[0m\u001b[0;36m0.000001\u001b[0m\u001b[0;34m,\u001b[0m\u001b[0;36m.1\u001b[0m\u001b[0;34m)\u001b[0m\u001b[0;34m\u001b[0m\u001b[0m\n\u001b[0m\u001b[1;32m      2\u001b[0m \u001b[0;34m\u001b[0m\u001b[0m\n",
      "\u001b[0;32m<ipython-input-6-303dbd685848>\u001b[0m in \u001b[0;36mrun_gradient_descent\u001b[0;34m(func, deriv, x0, h, tol)\u001b[0m\n\u001b[1;32m      6\u001b[0m     \u001b[0mf\u001b[0m \u001b[0;34m=\u001b[0m \u001b[0;34m[\u001b[0m\u001b[0;34m]\u001b[0m\u001b[0;34m\u001b[0m\u001b[0m\n\u001b[1;32m      7\u001b[0m     \u001b[0;32mwhile\u001b[0m \u001b[0;36m1\u001b[0m\u001b[0;34m:\u001b[0m\u001b[0;34m\u001b[0m\u001b[0m\n\u001b[0;32m----> 8\u001b[0;31m         \u001b[0mdx0\u001b[0m \u001b[0;34m=\u001b[0m \u001b[0mderiv\u001b[0m\u001b[0;34m(\u001b[0m\u001b[0mx0\u001b[0m\u001b[0;34m)\u001b[0m\u001b[0;34m\u001b[0m\u001b[0m\n\u001b[0m\u001b[1;32m      9\u001b[0m         \u001b[0mx\u001b[0m\u001b[0;34m.\u001b[0m\u001b[0mappend\u001b[0m\u001b[0;34m(\u001b[0m\u001b[0mx0\u001b[0m\u001b[0;34m)\u001b[0m\u001b[0;34m\u001b[0m\u001b[0m\n\u001b[1;32m     10\u001b[0m         \u001b[0md\u001b[0m\u001b[0;34m.\u001b[0m\u001b[0mappend\u001b[0m\u001b[0;34m(\u001b[0m\u001b[0mdx0\u001b[0m\u001b[0;34m)\u001b[0m\u001b[0;34m\u001b[0m\u001b[0m\n",
      "\u001b[0;32m<ipython-input-13-7874e495d884>\u001b[0m in \u001b[0;36m<lambda>\u001b[0;34m(theta)\u001b[0m\n\u001b[0;32m----> 1\u001b[0;31m \u001b[0mresults\u001b[0m \u001b[0;34m=\u001b[0m \u001b[0mrun_gradient_descent\u001b[0m\u001b[0;34m(\u001b[0m\u001b[0;32mlambda\u001b[0m \u001b[0mtheta\u001b[0m\u001b[0;34m:\u001b[0m \u001b[0mbatch_objective\u001b[0m\u001b[0;34m(\u001b[0m\u001b[0mtheta\u001b[0m\u001b[0;34m,\u001b[0m \u001b[0mX_fitting\u001b[0m\u001b[0;34m,\u001b[0m \u001b[0mY_fitting\u001b[0m\u001b[0;34m)\u001b[0m\u001b[0;34m,\u001b[0m\u001b[0;32mlambda\u001b[0m \u001b[0mtheta\u001b[0m\u001b[0;34m:\u001b[0m \u001b[0mbatch_gradient\u001b[0m\u001b[0;34m(\u001b[0m\u001b[0mtheta\u001b[0m\u001b[0;34m,\u001b[0m \u001b[0mX_fitting\u001b[0m\u001b[0;34m,\u001b[0m \u001b[0mY_fitting\u001b[0m\u001b[0;34m)\u001b[0m\u001b[0;34m,\u001b[0m \u001b[0mnp\u001b[0m\u001b[0;34m.\u001b[0m\u001b[0mzeros\u001b[0m\u001b[0;34m(\u001b[0m\u001b[0;34m(\u001b[0m\u001b[0;36m10\u001b[0m\u001b[0;34m,\u001b[0m\u001b[0;36m1\u001b[0m\u001b[0;34m)\u001b[0m\u001b[0;34m)\u001b[0m\u001b[0;34m,\u001b[0m\u001b[0;36m0.000001\u001b[0m\u001b[0;34m,\u001b[0m\u001b[0;36m.1\u001b[0m\u001b[0;34m)\u001b[0m\u001b[0;34m\u001b[0m\u001b[0m\n\u001b[0m\u001b[1;32m      2\u001b[0m \u001b[0;34m\u001b[0m\u001b[0m\n",
      "\u001b[0;31mNameError\u001b[0m: global name 'X_fitting' is not defined"
     ]
    }
   ],
   "source": [
    "results = run_gradient_descent(lambda theta: batch_objective(theta, X_fitting, Y_fitting),lambda theta: batch_gradient(theta, X_fitting, Y_fitting), np.zeros((10,1)),0.000001,.1)\n",
    "\n"
   ]
  },
  {
   "cell_type": "code",
   "execution_count": 14,
   "metadata": {
    "collapsed": false
   },
   "outputs": [
    {
     "ename": "NameError",
     "evalue": "name 'X_fitting' is not defined",
     "output_type": "error",
     "traceback": [
      "\u001b[0;31m---------------------------------------------------------------------------\u001b[0m",
      "\u001b[0;31mNameError\u001b[0m                                 Traceback (most recent call last)",
      "\u001b[0;32m<ipython-input-14-84ea05515998>\u001b[0m in \u001b[0;36m<module>\u001b[0;34m()\u001b[0m\n\u001b[1;32m      1\u001b[0m \u001b[0;34m\u001b[0m\u001b[0m\n\u001b[0;32m----> 2\u001b[0;31m \u001b[0mw_opt\u001b[0m \u001b[0;34m=\u001b[0m \u001b[0mnp\u001b[0m\u001b[0;34m.\u001b[0m\u001b[0mdot\u001b[0m\u001b[0;34m(\u001b[0m\u001b[0mnp\u001b[0m\u001b[0;34m.\u001b[0m\u001b[0mdot\u001b[0m\u001b[0;34m(\u001b[0m\u001b[0mnp\u001b[0m\u001b[0;34m.\u001b[0m\u001b[0mlinalg\u001b[0m\u001b[0;34m.\u001b[0m\u001b[0minv\u001b[0m\u001b[0;34m(\u001b[0m\u001b[0mnp\u001b[0m\u001b[0;34m.\u001b[0m\u001b[0mdot\u001b[0m\u001b[0;34m(\u001b[0m\u001b[0mX_fitting\u001b[0m\u001b[0;34m.\u001b[0m\u001b[0mT\u001b[0m\u001b[0;34m,\u001b[0m\u001b[0mX_fitting\u001b[0m\u001b[0;34m)\u001b[0m\u001b[0;34m)\u001b[0m\u001b[0;34m,\u001b[0m \u001b[0mX_fitting\u001b[0m\u001b[0;34m.\u001b[0m\u001b[0mT\u001b[0m\u001b[0;34m)\u001b[0m\u001b[0;34m,\u001b[0m \u001b[0mY_fitting\u001b[0m\u001b[0;34m)\u001b[0m\u001b[0;34m\u001b[0m\u001b[0m\n\u001b[0m\u001b[1;32m      3\u001b[0m \u001b[0;32mprint\u001b[0m \u001b[0mw_opt\u001b[0m\u001b[0;34m\u001b[0m\u001b[0m\n\u001b[1;32m      4\u001b[0m \u001b[0;32mprint\u001b[0m \u001b[0mbatch_objective\u001b[0m\u001b[0;34m(\u001b[0m\u001b[0mw_opt\u001b[0m\u001b[0;34m,\u001b[0m \u001b[0mX_fitting\u001b[0m\u001b[0;34m,\u001b[0m \u001b[0mY_fitting\u001b[0m\u001b[0;34m)\u001b[0m\u001b[0;34m\u001b[0m\u001b[0m\n\u001b[1;32m      5\u001b[0m \u001b[0;32mprint\u001b[0m \u001b[0mbatch_gradient\u001b[0m\u001b[0;34m(\u001b[0m\u001b[0mw_opt\u001b[0m\u001b[0;34m,\u001b[0m\u001b[0mX_fitting\u001b[0m\u001b[0;34m,\u001b[0m \u001b[0mY_fitting\u001b[0m\u001b[0;34m)\u001b[0m\u001b[0;34m\u001b[0m\u001b[0m\n",
      "\u001b[0;31mNameError\u001b[0m: name 'X_fitting' is not defined"
     ]
    }
   ],
   "source": [
    "\n",
    "w_opt = np.dot(np.dot(np.linalg.inv(np.dot(X_fitting.T,X_fitting)), X_fitting.T), Y_fitting)\n",
    "print w_opt\n",
    "print batch_objective(w_opt, X_fitting, Y_fitting)\n",
    "print batch_gradient(w_opt,X_fitting, Y_fitting)"
   ]
  },
  {
   "cell_type": "code",
   "execution_count": 15,
   "metadata": {
    "collapsed": false
   },
   "outputs": [
    {
     "ename": "NameError",
     "evalue": "name 'w_opt' is not defined",
     "output_type": "error",
     "traceback": [
      "\u001b[0;31m---------------------------------------------------------------------------\u001b[0m",
      "\u001b[0;31mNameError\u001b[0m                                 Traceback (most recent call last)",
      "\u001b[0;32m<ipython-input-15-5f7f82b180ae>\u001b[0m in \u001b[0;36m<module>\u001b[0;34m()\u001b[0m\n\u001b[0;32m----> 1\u001b[0;31m \u001b[0mresults_opt\u001b[0m \u001b[0;34m=\u001b[0m \u001b[0mrun_gradient_descent\u001b[0m\u001b[0;34m(\u001b[0m\u001b[0;32mlambda\u001b[0m \u001b[0mtheta\u001b[0m\u001b[0;34m:\u001b[0m \u001b[0mbatch_objective\u001b[0m\u001b[0;34m(\u001b[0m\u001b[0mtheta\u001b[0m\u001b[0;34m,\u001b[0m \u001b[0mX_fitting\u001b[0m\u001b[0;34m,\u001b[0m \u001b[0mY_fitting\u001b[0m\u001b[0;34m)\u001b[0m\u001b[0;34m,\u001b[0m\u001b[0;32mlambda\u001b[0m \u001b[0mtheta\u001b[0m\u001b[0;34m:\u001b[0m \u001b[0mbatch_gradient\u001b[0m\u001b[0;34m(\u001b[0m\u001b[0mtheta\u001b[0m\u001b[0;34m,\u001b[0m \u001b[0mX_fitting\u001b[0m\u001b[0;34m,\u001b[0m \u001b[0mY_fitting\u001b[0m\u001b[0;34m)\u001b[0m\u001b[0;34m,\u001b[0m \u001b[0mw_opt\u001b[0m\u001b[0;34m,\u001b[0m\u001b[0;36m0.001\u001b[0m\u001b[0;34m,\u001b[0m\u001b[0;36m.001\u001b[0m\u001b[0;34m)\u001b[0m\u001b[0;34m\u001b[0m\u001b[0m\n\u001b[0m",
      "\u001b[0;31mNameError\u001b[0m: name 'w_opt' is not defined"
     ]
    }
   ],
   "source": [
    "results_opt = run_gradient_descent(lambda theta: batch_objective(theta, X_fitting, Y_fitting),lambda theta: batch_gradient(theta, X_fitting, Y_fitting), w_opt,0.001,.001)\n"
   ]
  },
  {
   "cell_type": "code",
   "execution_count": 31,
   "metadata": {
    "collapsed": false
   },
   "outputs": [
    {
     "name": "stdout",
     "output_type": "stream",
     "text": [
      "[[  1.50712932e-03]\n",
      " [ -1.26490924e-03]\n",
      " [  1.59659337e-03]\n",
      " [ -1.15665882e-03]\n",
      " [ -4.48456272e-04]\n",
      " [ -2.77008092e-03]\n",
      " [ -4.97742454e-03]\n",
      " [ -9.35992122e-04]\n",
      " [  7.56091429e-04]\n",
      " [ -2.21866974e-05]]\n"
     ]
    }
   ],
   "source": [
    "print results[0][-1] - w_opt"
   ]
  },
  {
   "cell_type": "markdown",
   "metadata": {},
   "source": [
    "# Stochastic Gradient Descent\n"
   ]
  },
  {
   "cell_type": "code",
   "execution_count": 98,
   "metadata": {
    "collapsed": false
   },
   "outputs": [],
   "source": [
    "np.random.seed(0)\n",
    "def stochastic_gradient_descent(func, deriv, X, Y, theta0, tau, k, tol):\n",
    "    ndata = np.shape(X)[0]\n",
    "    nparams = np.shape(theta0)[0]\n",
    "    t = 0\n",
    "    #theta_list = []\n",
    "    err = []\n",
    "    while 1:\n",
    "        order = range(ndata)\n",
    "        np.random.shuffle(order)\n",
    "        theta0_copy = theta0.copy()\n",
    "        for i in order:\n",
    "            xx = X[i,:].reshape((1,nparams))\n",
    "            yy = Y[i].reshape((1,1))\n",
    "            step = (tau+t)**(-k)\n",
    "            d = deriv(theta0,xx,yy)\n",
    "            theta1 = theta0-step*d\n",
    "            theta0 = theta1\n",
    "            t += 1\n",
    "            if t > 100000:\n",
    "                print err[-10:]\n",
    "                raise RuntimeError\n",
    "        fx1 = func(theta1,X,Y)\n",
    "        fx0 = func(theta0_copy,X,Y)\n",
    "        err.append(abs(fx1-fx0))\n",
    "        if abs(fx1-fx0) < tol:\n",
    "            break\n",
    "    return theta1, t\n",
    "\n",
    "    "
   ]
  },
  {
   "cell_type": "code",
   "execution_count": 72,
   "metadata": {
    "collapsed": false
   },
   "outputs": [
    {
     "name": "stdout",
     "output_type": "stream",
     "text": [
      "[[  2.15024152e-04]\n",
      " [  1.04394983e-05]\n",
      " [  1.47746580e-06]\n",
      " [  2.79191777e-04]\n",
      " [ -3.61444338e-05]\n",
      " [ -5.58645657e-05]\n",
      " [  8.58793248e-05]\n",
      " [  1.43709151e-04]\n",
      " [  8.93007580e-05]\n",
      " [  1.35898169e-04]]\n"
     ]
    }
   ],
   "source": [
    "results_sgd = stochastic_gradient_descent(batch_objective,batch_gradient, X_fitting, Y_fitting, w_opt, 100000000.,.75,.1)\n",
    "print results_sgd-w_opt"
   ]
  },
  {
   "cell_type": "code",
   "execution_count": 36,
   "metadata": {
    "collapsed": false
   },
   "outputs": [
    {
     "name": "stdout",
     "output_type": "stream",
     "text": [
      "3.16227766017e-05\n",
      "3.16227528846e-05\n",
      "3.16227291676e-05\n",
      "3.16227054506e-05\n",
      "3.16226817337e-05\n",
      "3.16226580168e-05\n",
      "3.16226342999e-05\n",
      "3.16226105831e-05\n",
      "3.16225868664e-05\n",
      "3.16225631496e-05\n"
     ]
    }
   ],
   "source": [
    "tau = 1000000\n",
    "k = .75\n",
    "t = 0\n",
    "for i in range(10):\n",
    "    print (t+tau)**(-k)\n",
    "    t += 1\n",
    "    \n",
    "    "
   ]
  },
  {
   "cell_type": "code",
   "execution_count": 75,
   "metadata": {
    "collapsed": false
   },
   "outputs": [
    {
     "name": "stdout",
     "output_type": "stream",
     "text": [
      "[[  1.33944892e-03]\n",
      " [ -1.47637471e-03]\n",
      " [  1.85975256e-03]\n",
      " [ -1.38911654e-03]\n",
      " [ -4.16107113e-04]\n",
      " [ -3.05058698e-03]\n",
      " [ -5.78215266e-03]\n",
      " [ -1.27045697e-03]\n",
      " [  7.16496296e-04]\n",
      " [ -6.45513866e-05]]\n"
     ]
    }
   ],
   "source": [
    "results_sgd = stochastic_gradient_descent(batch_objective,batch_gradient, X_fitting, Y_fitting, np.zeros((10,1)), 100000000.,.75,.1)\n",
    "print results_sgd-w_opt"
   ]
  },
  {
   "cell_type": "markdown",
   "metadata": {
    "collapsed": true
   },
   "source": [
    "# Problem 2.2"
   ]
  },
  {
   "cell_type": "code",
   "execution_count": 61,
   "metadata": {
    "collapsed": false
   },
   "outputs": [
    {
     "data": {
      "image/png": "[encoded data removed]",
      "text/plain": [
       "<matplotlib.figure.Figure at 0x10c6d9390>"
      ]
     },
     "metadata": {},
     "output_type": "display_data"
    }
   ],
   "source": [
    "import matplotlib.pyplot as plt\n",
    "import pylab as pl\n",
    "\n",
    "def getData(ifPlotData=True):\n",
    "    # load the fitting data and (optionally) plot out for examination\n",
    "    # return the X and Y as a tuple\n",
    "\n",
    "    data = pl.loadtxt('data/curvefittingp2.txt')\n",
    "\n",
    "    X = data[0,:]\n",
    "    Y = data[1,:]\n",
    "\n",
    "    if ifPlotData:\n",
    "        plt.plot(X,Y,'o')\n",
    "        plt.xlabel('x')\n",
    "        plt.ylabel('y')\n",
    "        plt.show()\n",
    "\n",
    "    return (X,Y)\n",
    "\n",
    "X, Y = getData()\n",
    "X = X.reshape((11,1))\n",
    "Y = Y.reshape((11,1))"
   ]
  },
  {
   "cell_type": "code",
   "execution_count": 62,
   "metadata": {
    "collapsed": false
   },
   "outputs": [
    {
     "name": "stdout",
     "output_type": "stream",
     "text": [
      "[[ 0. ]\n",
      " [ 0.1]\n",
      " [ 0.2]\n",
      " [ 0.3]\n",
      " [ 0.4]\n",
      " [ 0.5]\n",
      " [ 0.6]\n",
      " [ 0.7]\n",
      " [ 0.8]\n",
      " [ 0.9]\n",
      " [ 1. ]]\n"
     ]
    }
   ],
   "source": [
    "print X"
   ]
  },
  {
   "cell_type": "code",
   "execution_count": 20,
   "metadata": {
    "collapsed": true
   },
   "outputs": [],
   "source": [
    "def fit_polynomial(X, Y, M, out_png=None):\n",
    "    '''Problem 2.1'''\n",
    "    # TODO: replace with our implementation\n",
    "    #z = np.polyfit(X, Y, M)\n",
    "\n",
    "    assert len(np.shape(X)) == 1\n",
    "    A = np.empty((len(X),M+1))\n",
    "    for i in range(M+1):\n",
    "        A[:,i] = X**i\n",
    "    A = np.matrix(A)\n",
    "    Y = np.matrix(Y).T # Nx1 matrix\n",
    "    weights = np.linalg.inv(A.T*A)*A.T*Y\n",
    "    weights = np.reshape(np.array(weights),M+1) # back to np array\n",
    "\n",
    "    if out_png:\n",
    "        plt.figure(1)\n",
    "        plt.clf()\n",
    "        plt.plot(X,np.array(Y),'o',color='blue')\n",
    "\n",
    "        xp = np.linspace(0, 1, 100)\n",
    "        y_model = np.cos(np.pi*xp) + 1.5*np.cos(2*np.pi*xp)\n",
    "        plt.plot(xp, y_model, color='yellow')\n",
    "\n",
    "        #def polynomial(xx):\n",
    "        #    yy = 0\n",
    "        #    for ii in range(M+1):\n",
    "        #        w = weights.item((ii, 0))\n",
    "        #        yy += w*xx**ii\n",
    "        #    return yy\n",
    "\n",
    "        y_regress = [polynomial(xx, weights) for xx in xp]\n",
    "        #poly = np.poly1d(z)\n",
    "        #y_regress = map(poly, xp)\n",
    "        plt.plot(xp, y_regress, color='red')\n",
    "\n",
    "        plt.xlabel('x')\n",
    "        plt.ylabel('y')\n",
    "        plt.title('Linear Regression (M={})'.format(M))\n",
    "\n",
    "        plt.savefig(out_png)\n",
    "    return weights\n",
    "\n",
    "def polynomial(x,weights):\n",
    "    assert len(np.shape(weights)) == 1\n",
    "    yy = [w*x**ii for ii, w in enumerate(weights)]\n",
    "    return np.sum(yy)\n",
    "\n",
    "def compute_SSE(X, Y, M, weights):\n",
    "    '''Problem 2.2'''\n",
    "    A = np.empty((len(X),M+1))\n",
    "    for i in range(M+1):\n",
    "        A[:,i] = X**i\n",
    "    \n",
    "    SSE = batch_objective(weights, A,Y)\n",
    "    deriv = batch_gradient(weights, A, Y)\n",
    "    \n",
    "    return SSE, deriv\n",
    "\n",
    "def central_difference(func, step, x):\n",
    "    return (func(x+0.5*step) - func(x-0.5*step))/step"
   ]
  },
  {
   "cell_type": "code",
   "execution_count": 121,
   "metadata": {
    "collapsed": false
   },
   "outputs": [
    {
     "name": "stdout",
     "output_type": "stream",
     "text": [
      "weights\n",
      "[-0.00087273]\n",
      "(13.476960001818181, array([  7.77156117e-16]))\n",
      "weights\n",
      "[ 0.90554091 -1.81282727]\n",
      "(9.8619830090000011, array([  6.66133815e-15,   3.55271368e-15]))\n",
      "weights\n",
      "[  2.36687552 -10.73144911   6.61648601   2.48074981]\n",
      "(0.65484574996503397, array([  6.35602682e-13,   4.05508960e-13,   3.29458683e-13,\n",
      "         2.78388423e-13]))\n",
      "weights\n",
      "[  2.27370190e+00  -6.17646429e+01   1.97787467e+03  -2.73023028e+04\n",
      "   1.89367641e+05  -7.49292026e+05   1.79592248e+06  -2.65353092e+06\n",
      "   2.36176881e+06  -1.16080874e+06   2.41957508e+05]\n",
      "(0.00058268739273887357, array([-0.09494442, -0.05506849, -0.03924035, -0.03067857, -0.0253377 ,\n",
      "       -0.02170731, -0.01909475, -0.01713652, -0.01562323, -0.01442568,\n",
      "       -0.01345988]))\n"
     ]
    },
    {
     "data": {
      "image/png": "[encoded data removed]",
      "text/plain": [
       "<matplotlib.figure.Figure at 0x10c48ead0>"
      ]
     },
     "metadata": {},
     "output_type": "display_data"
    }
   ],
   "source": [
    "X, Y = getData(False)\n",
    "for M in (0,1,3,10):\n",
    "    weights = fit_polynomial(X,Y,M,'regress_m_%i.png' % M)\n",
    "    print \"weights\"\n",
    "    print weights\n",
    "    print compute_SSE(X,Y,M,weights)"
   ]
  },
  {
   "cell_type": "markdown",
   "metadata": {},
   "source": [
    "# Problem 2.3"
   ]
  },
  {
   "cell_type": "code",
   "execution_count": 115,
   "metadata": {
    "collapsed": false
   },
   "outputs": [],
   "source": [
    "M = 1\n",
    "\n",
    "def compute_only_SSE(X_, Y, M, weights):\n",
    "    X = X_.reshape(11)\n",
    "    A = np.empty((len(X),M+1))\n",
    "    for i in range(M+1):\n",
    "        A[:,i] = X**i\n",
    "    SSE = batch_objective(weights, A,Y)\n",
    "    return SSE\n",
    "\n",
    "def compute_only_deriv(X_, Y, M, weights):\n",
    "    X = X_.reshape(11)\n",
    "    A = np.empty((len(X),M+1))\n",
    "    for i in range(M+1):\n",
    "        A[:,i] = X**i\n",
    "    deriv = batch_gradient(weights, A,Y)\n",
    "    return deriv\n",
    "\n",
    "poly_grad_des = run_gradient_descent(lambda w: compute_only_SSE(X, Y,M,w),lambda w: compute_only_deriv(X, Y,M,w),np.zeros((M+1,1)),0.001,0.00001)"
   ]
  },
  {
   "cell_type": "code",
   "execution_count": 116,
   "metadata": {
    "collapsed": false
   },
   "outputs": [
    {
     "name": "stdout",
     "output_type": "stream",
     "text": [
      "[[ 0.87804619]\n",
      " [-1.76216315]]\n"
     ]
    }
   ],
   "source": [
    "print poly_grad_des[0][-1]\n"
   ]
  },
  {
   "cell_type": "code",
   "execution_count": 117,
   "metadata": {
    "collapsed": false
   },
   "outputs": [],
   "source": [
    "X = X.reshape(11)\n",
    "A = np.empty((len(X),M+1))\n",
    "for i in range(M+1):\n",
    "    A[:,i] = X**i\n",
    "'''\n",
    "def compute_only_SSE(weights, X_, Y):\n",
    "    M = len(weights)\n",
    "    X = X_.reshape(11)\n",
    "    A = np.empty((len(X),M+1))\n",
    "    for i in range(M+1):\n",
    "        A[:,i] = X**i\n",
    "    SSE = batch_objective(weights, A,Y)\n",
    "    return SSE\n",
    "\n",
    "def compute_only_deriv(weights, X_, Y):\n",
    "    M = len(weights)\n",
    "    X = X_.reshape(11)\n",
    "    A = np.empty((len(X),M+1))\n",
    "    for i in range(M+1):\n",
    "        A[:,i] = X**i\n",
    "    deriv = batch_gradient(weights, A,Y)\n",
    "    return deriv\n",
    "\n",
    "'''    \n",
    "M=1\n",
    "poly_sgd = stochastic_gradient_descent(batch_objective, batch_gradient, A, Y, np.zeros((M+1,1)),100.,.75,.0001)"
   ]
  },
  {
   "cell_type": "code",
   "execution_count": 118,
   "metadata": {
    "collapsed": false
   },
   "outputs": [
    {
     "name": "stdout",
     "output_type": "stream",
     "text": [
      "(array([[ 0.84636832],\n",
      "       [-1.7019844 ]]), 3179)\n"
     ]
    }
   ],
   "source": [
    "print poly_sgd"
   ]
  },
  {
   "cell_type": "markdown",
   "metadata": {
    "collapsed": true
   },
   "source": [
    "# Problem 3.1"
   ]
  },
  {
   "cell_type": "code",
   "execution_count": 1,
   "metadata": {
    "collapsed": true
   },
   "outputs": [],
   "source": [
    "def ridge_weights(X, Y,M, lamb):\n",
    "    return np.dot(np.dot(np.linalg.inv(np.add(lamb*np.identity(M+1),np.dot(X.T,X))),X.T),Y)\n",
    "\n",
    "def polynomial(x,weights):\n",
    "    assert len(np.shape(weights)) == 1\n",
    "    yy = [w*x**ii for ii, w in enumerate(weights)]\n",
    "    return np.sum(yy)\n",
    "\n",
    "def fit_polynomial_ridge(X, Y, M, lamb, out_png=None):\n",
    "\n",
    "    assert len(np.shape(X)) == 1\n",
    "    A = np.empty((len(X),M+1))\n",
    "    for i in range(M+1):\n",
    "        A[:,i] = X**i\n",
    "    #A = np.matrix(A)\n",
    "    #Y = np.matrix(Y).T # Nx1 matrix\n",
    "    weights = ridge_weights(A,Y,M,lamb)\n",
    "    #weights = np.reshape(np.array(weights),M+1) # back to np array\n",
    "\n",
    "    if out_png:\n",
    "        plt.figure(1)\n",
    "        plt.clf()\n",
    "        plt.plot(X,np.array(Y),'o',color='blue')\n",
    "\n",
    "        xp = np.linspace(0, 1, 100)\n",
    "        y_model = np.cos(np.pi*xp) + 1.5*np.cos(2*np.pi*xp)\n",
    "        plt.plot(xp, y_model, color='yellow')\n",
    "\n",
    "        y_regress = [polynomial(xx, weights) for xx in xp]\n",
    "        plt.plot(xp, y_regress, color='red')\n",
    "\n",
    "        plt.xlabel('x')\n",
    "        plt.ylabel('y')\n",
    "        plt.title('Ridge Regression (M={})'.format(M))\n",
    "\n",
    "        plt.savefig(out_png)"
   ]
  },
  {
   "cell_type": "code",
   "execution_count": 2,
   "metadata": {
    "collapsed": false
   },
   "outputs": [
    {
     "ename": "NameError",
     "evalue": "name 'getData' is not defined",
     "output_type": "error",
     "traceback": [
      "\u001b[0;31m---------------------------------------------------------------------------\u001b[0m",
      "\u001b[0;31mNameError\u001b[0m                                 Traceback (most recent call last)",
      "\u001b[0;32m<ipython-input-2-b83b2b6714c6>\u001b[0m in \u001b[0;36m<module>\u001b[0;34m()\u001b[0m\n\u001b[0;32m----> 1\u001b[0;31m \u001b[0mX\u001b[0m\u001b[0;34m,\u001b[0m \u001b[0mY\u001b[0m \u001b[0;34m=\u001b[0m \u001b[0mgetData\u001b[0m\u001b[0;34m(\u001b[0m\u001b[0mFalse\u001b[0m\u001b[0;34m)\u001b[0m\u001b[0;34m\u001b[0m\u001b[0m\n\u001b[0m\u001b[1;32m      2\u001b[0m \u001b[0;31m#weigths = fit_polynomial_ridge(X,Y,3,0.001,out_png = 'test_ridge.png')#,'ridge_m_%i.png' % M)\u001b[0m\u001b[0;34m\u001b[0m\u001b[0;34m\u001b[0m\u001b[0m\n\u001b[1;32m      3\u001b[0m \u001b[0;32mfor\u001b[0m \u001b[0mM\u001b[0m \u001b[0;32min\u001b[0m \u001b[0;34m(\u001b[0m\u001b[0;36m0\u001b[0m\u001b[0;34m,\u001b[0m\u001b[0;36m1\u001b[0m\u001b[0;34m,\u001b[0m\u001b[0;36m3\u001b[0m\u001b[0;34m,\u001b[0m\u001b[0;36m10\u001b[0m\u001b[0;34m)\u001b[0m\u001b[0;34m:\u001b[0m\u001b[0;34m\u001b[0m\u001b[0m\n\u001b[1;32m      4\u001b[0m     \u001b[0;32mfor\u001b[0m \u001b[0mlamb\u001b[0m \u001b[0;32min\u001b[0m \u001b[0;34m[\u001b[0m\u001b[0;36m10\u001b[0m\u001b[0;34m**\u001b[0m\u001b[0mii\u001b[0m \u001b[0;32mfor\u001b[0m \u001b[0mii\u001b[0m \u001b[0;32min\u001b[0m \u001b[0mrange\u001b[0m\u001b[0;34m(\u001b[0m\u001b[0;34m-\u001b[0m\u001b[0;36m3\u001b[0m\u001b[0;34m,\u001b[0m\u001b[0;36m4\u001b[0m\u001b[0;34m)\u001b[0m\u001b[0;34m]\u001b[0m\u001b[0;34m:\u001b[0m\u001b[0;34m\u001b[0m\u001b[0m\n\u001b[1;32m      5\u001b[0m         \u001b[0mweights\u001b[0m \u001b[0;34m=\u001b[0m \u001b[0mfit_polynomial_ridge\u001b[0m\u001b[0;34m(\u001b[0m\u001b[0mX\u001b[0m\u001b[0;34m,\u001b[0m\u001b[0mY\u001b[0m\u001b[0;34m,\u001b[0m\u001b[0mM\u001b[0m\u001b[0;34m,\u001b[0m\u001b[0mlamb\u001b[0m\u001b[0;34m,\u001b[0m\u001b[0;34m'ridge_plots/ridge_m_%i_lambda_%s.png'\u001b[0m \u001b[0;34m%\u001b[0m \u001b[0;34m(\u001b[0m\u001b[0mM\u001b[0m\u001b[0;34m,\u001b[0m\u001b[0mlamb\u001b[0m\u001b[0;34m)\u001b[0m\u001b[0;34m)\u001b[0m\u001b[0;34m\u001b[0m\u001b[0m\n",
      "\u001b[0;31mNameError\u001b[0m: name 'getData' is not defined"
     ]
    }
   ],
   "source": [
    "X, Y = getData(False)\n",
    "#weigths = fit_polynomial_ridge(X,Y,3,0.001,out_png = 'test_ridge.png')#,'ridge_m_%i.png' % M)\n",
    "for M in (0,1,3,10):\n",
    "    for lamb in [10**ii for ii in range(-3,4)]:\n",
    "        weights = fit_polynomial_ridge(X,Y,M,lamb,'ridge_plots/ridge_m_%i_lambda_%s.png' % (M,lamb))"
   ]
  },
  {
   "cell_type": "code",
   "execution_count": null,
   "metadata": {
    "collapsed": true
   },
   "outputs": [],
   "source": []
  }
 ],
 "metadata": {
  "kernelspec": {
   "display_name": "Python [Root]",
   "language": "python",
   "name": "Python [Root]"
  },
  "language_info": {
   "codemirror_mode": {
    "name": "ipython",
    "version": 2
   },
   "file_extension": ".py",
   "mimetype": "text/x-python",
   "name": "python",
   "nbconvert_exporter": "python",
   "pygments_lexer": "ipython2",
   "version": "2.7.12"
  }
 },
 "nbformat": 4,
 "nbformat_minor": 0
}
